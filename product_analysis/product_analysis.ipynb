{
 "cells": [
  {
   "cell_type": "code",
   "execution_count": null,
   "metadata": {},
   "outputs": [],
   "source": [
    "import pandas as pd\n",
    "# 使DataFrame在jupyter notebook中输出不换行\n",
    "pd.set_option('display.expand_frame_repr', False)\n",
    "df = pd.read_csv('../user_action_after_preprocess.csv')\n",
    "print('最初数据：\\n', df, '\\n\\n')"
   ]
  },
  {
   "cell_type": "code",
   "execution_count": null,
   "metadata": {},
   "outputs": [],
   "source": [
    "df_behavior_selection_1 = df[df[\"behavior_type\"] == 1]\n",
    "df_behavior_selection_2 = df[df[\"behavior_type\"] == 2]\n",
    "df_behavior_selection_3 = df[df[\"behavior_type\"] == 3]\n",
    "df_behavior_selection_4 = df[df[\"behavior_type\"] == 4]"
   ]
  },
  {
   "cell_type": "code",
   "execution_count": null,
   "metadata": {},
   "outputs": [],
   "source": [
    "browse_to_cart_df = pd.merge(left=df_behavior_selection_1, right=df_behavior_selection_3, how='inner', on=[\"user_id\",'item_id','item_category'], suffixes=('_browse','_add_shopping_cart'))\n",
    "browse_to_cart_df = browse_to_cart_df[\n",
    "    (browse_to_cart_df['date_browse'] <= browse_to_cart_df['date_add_shopping_cart'] )&\n",
    "    (browse_to_cart_df['mon_browse'] <= browse_to_cart_df['mon_add_shopping_cart'] )&\n",
    "    (browse_to_cart_df['hour_browse'] <= browse_to_cart_df['hour_add_shopping_cart'])\n",
    "    ]\n",
    "cart_to_buy_df = pd.merge(left=df_behavior_selection_3, right=df_behavior_selection_4, how='inner', on=['item_id','item_category'], suffixes=('_add_shopping_cart','_buy'))\n",
    "cart_to_buy_df = cart_to_buy_df[\n",
    "    (cart_to_buy_df['date_browse'] <= browse_to_cart_df['date_add_shopping_cart'] )&\n",
    "    (browse_to_cart_df['mon_browse'] <= browse_to_cart_df['mon_add_shopping_cart'] )&\n",
    "    (browse_to_cart_df['hour_browse'] <= browse_to_cart_df['hour_add_shopping_cart'])\n",
    "    ]\n",
    "browse_to_cart_df\n"
   ]
  },
  {
   "cell_type": "code",
   "execution_count": null,
   "metadata": {},
   "outputs": [],
   "source": [
    "import plotly.graph_objects as go\n",
    "\n",
    "fig = go.Figure(go.Funnel(\n",
    "    x=[total_browse, total_cart, total_buy],\n",
    "    y=[\"浏览量\", \"加购量\", \"购买量\"],\n",
    "    opacity = 0.65, \n",
    "    marker = {\"color\": [\"deepskyblue\", \"lightsalmon\", \"tan\", \"silver\"],\n",
    "              \"line\": {\"width\": [4, 2, 3, 1, 1], \n",
    "                       \"color\": [\"wheat\", \"wheat\", \"blue\", \"yellow\"]}},\n",
    "    connector = {\"line\": {\"color\": \"royalblue\", \"dash\": \"dot\", \"width\": 3}},\n",
    "    textinfo='value+percent previous',\n",
    "))\n",
    "\n",
    "fig.update_layout(\n",
    "    title='商品浏览→加购→购买行为转化率',\n",
    "    height=400,\n",
    "    width=600,\n",
    "    margin=dict(l=50, r=50, t=50, b=50),\n",
    ")\n",
    "\n",
    "fig.show()"
   ]
  },
  {
   "cell_type": "code",
   "execution_count": null,
   "metadata": {},
   "outputs": [],
   "source": [
    "import plotly.graph_objects as go\n",
    "\n",
    "fig = go.Figure(go.Funnel(\n",
    "    x=[total_browse, total_collect, total_buy],\n",
    "    y=[\"浏览量\", \"收藏量\", \"购买量\"],\n",
    "    opacity = 0.65, \n",
    "    marker = {\"color\": [\"deepskyblue\", \"lightsalmon\", \"tan\", \"silver\"],\n",
    "              \"line\": {\"width\": [4, 2, 3, 1, 1], \n",
    "                       \"color\": [\"wheat\", \"wheat\", \"blue\", \"yellow\"]}},\n",
    "    connector = {\"line\": {\"color\": \"royalblue\", \"dash\": \"dot\", \"width\": 3}},\n",
    "    textinfo='value+percent previous',\n",
    "))\n",
    "\n",
    "fig.update_layout(\n",
    "    title='商品浏览→加购→购买行为转化率',\n",
    "    height=400,\n",
    "    width=600,\n",
    "    margin=dict(l=50, r=50, t=50, b=50),\n",
    ")\n",
    "\n",
    "fig.show()"
   ]
  }
 ],
 "metadata": {
  "kernelspec": {
   "display_name": "base",
   "language": "python",
   "name": "python3"
  },
  "language_info": {
   "codemirror_mode": {
    "name": "ipython",
    "version": 3
   },
   "file_extension": ".py",
   "mimetype": "text/x-python",
   "name": "python",
   "nbconvert_exporter": "python",
   "pygments_lexer": "ipython3",
   "version": "3.11.4"
  }
 },
 "nbformat": 4,
 "nbformat_minor": 2
}
