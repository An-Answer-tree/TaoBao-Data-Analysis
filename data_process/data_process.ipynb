{
 "cells": [
  {
   "cell_type": "code",
   "execution_count": 12,
   "metadata": {},
   "outputs": [],
   "source": [
    "import pandas as pd\n",
    "# 使DataFrame在jupyter notebook中输出不换行\n",
    "pd.set_option('display.expand_frame_repr', False)"
   ]
  },
  {
   "cell_type": "code",
   "execution_count": 13,
   "metadata": {},
   "outputs": [
    {
     "name": "stdout",
     "output_type": "stream",
     "text": [
      "最初数据：\n",
      "     user_id    item_id  behavior_type  item_category           time\n",
      "0  98047837  232431562              1           4245  2014-12-06 02\n",
      "1  97726136  383583590              1           5894  2014-12-09 20\n",
      "2  98607707   64749712              1           2883  2014-12-18 11\n",
      "3  98662432  320593836              1           6562  2014-12-06 10\n",
      "4  98145908  290208520              1          13926  2014-12-16 21 \n",
      "\n",
      "\n",
      "最初数据类型：\n",
      " user_id           int64\n",
      "item_id           int64\n",
      "behavior_type     int64\n",
      "item_category     int64\n",
      "time             object\n",
      "dtype: object \n",
      "\n",
      "\n",
      "数据集不同字段内容分析：\n",
      " user_id            10000\n",
      "item_id          2876947\n",
      "behavior_type          4\n",
      "item_category       8916\n",
      "time                 744\n",
      "dtype: int64\n"
     ]
    }
   ],
   "source": [
    "# 数据集导入\n",
    "df = pd.read_csv('../user_action.csv')\n",
    "print('最初数据：\\n', df.head(), '\\n\\n')\n",
    "print('最初数据类型：\\n', df.dtypes, '\\n\\n')\n",
    "print('数据集不同字段内容分析：\\n', df.nunique())"
   ]
  },
  {
   "cell_type": "code",
   "execution_count": 14,
   "metadata": {},
   "outputs": [
    {
     "name": "stdout",
     "output_type": "stream",
     "text": [
      "去除空值后数据为：\n",
      "             user_id    item_id  behavior_type  item_category           time\n",
      "0          98047837  232431562              1           4245  2014-12-06 02\n",
      "1          97726136  383583590              1           5894  2014-12-09 20\n",
      "2          98607707   64749712              1           2883  2014-12-18 11\n",
      "3          98662432  320593836              1           6562  2014-12-06 10\n",
      "4          98145908  290208520              1          13926  2014-12-16 21\n",
      "...             ...        ...            ...            ...            ...\n",
      "12256901   93812622  378365755              1             11  2014-12-13 21\n",
      "12256902   93812622  177724753              1          12311  2014-12-14 21\n",
      "12256903   93812622  234391443              1           8765  2014-12-11 16\n",
      "12256904   93812622   26452000              1           7951  2014-12-08 22\n",
      "12256905  108404535  362699797              1           9847  2014-12-03 19\n",
      "\n",
      "[12256906 rows x 5 columns]\n"
     ]
    }
   ],
   "source": [
    "# 数据预处理\n",
    "# 在df中去除有空值的数据项，并在原地修改\n",
    "df.dropna(axis=0, how='any', inplace=True)\n",
    "print('去除空值后数据为：\\n', df)"
   ]
  },
  {
   "cell_type": "code",
   "execution_count": 15,
   "metadata": {},
   "outputs": [
    {
     "name": "stdout",
     "output_type": "stream",
     "text": [
      "当前数据：\n",
      "     user_id    item_id  behavior_type  item_category           time        date mon day hour\n",
      "0  98047837  232431562              1           4245  2014-12-06 02  2014-12-06  12  06   02\n",
      "1  97726136  383583590              1           5894  2014-12-09 20  2014-12-09  12  09   20\n",
      "2  98607707   64749712              1           2883  2014-12-18 11  2014-12-18  12  18   11\n",
      "3  98662432  320593836              1           6562  2014-12-06 10  2014-12-06  12  06   10\n",
      "4  98145908  290208520              1          13926  2014-12-16 21  2014-12-16  12  16   21 \n",
      "\n",
      "\n",
      "当前df数据类型：\n",
      " user_id           int64\n",
      "item_id           int64\n",
      "behavior_type     int64\n",
      "item_category     int64\n",
      "time             object\n",
      "date             object\n",
      "mon              object\n",
      "day              object\n",
      "hour             object\n",
      "dtype: object\n"
     ]
    }
   ],
   "source": [
    "# 将df中time字段删除，增加date，mon，day，hour三个字段\n",
    "df['date'] = df['time'].str.split(pat=' ', expand=True)[0]\n",
    "df['mon'] = df['time'].str.split(pat='-', expand=True)[1]\n",
    "df['day'] = df['time'].str.split(pat='-', expand=True)[2].str.split(pat=' ', expand=True)[0]\n",
    "df['hour'] = df['time'].str.split(pat=' ', expand=True)[1]\n",
    "print('当前数据：\\n', df.head(), '\\n\\n')\n",
    "print('当前df数据类型：\\n', df.dtypes)"
   ]
  },
  {
   "cell_type": "code",
   "execution_count": 16,
   "metadata": {},
   "outputs": [
    {
     "name": "stdout",
     "output_type": "stream",
     "text": [
      "当前df数据类型：\n",
      " user_id           int64\n",
      "item_id           int64\n",
      "behavior_type     int64\n",
      "item_category     int64\n",
      "time             object\n",
      "date             object\n",
      "mon               int64\n",
      "day               int64\n",
      "hour              int64\n",
      "dtype: object\n"
     ]
    }
   ],
   "source": [
    "# # 修改mon，day，hour字段的数据类型\n",
    "df[['mon', 'day', 'hour']] = df[['mon', 'day', 'hour']].astype('int64')\n",
    "print('当前df数据类型：\\n', df.dtypes)"
   ]
  },
  {
   "cell_type": "code",
   "execution_count": 17,
   "metadata": {},
   "outputs": [],
   "source": [
    "# 导出修改后的文件\n",
    "df.to_csv('../user_action_after_preprocess.csv', sep=',', index=False)"
   ]
  }
 ],
 "metadata": {
  "kernelspec": {
   "display_name": "dataanalysis",
   "language": "python",
   "name": "python3"
  },
  "language_info": {
   "codemirror_mode": {
    "name": "ipython",
    "version": 3
   },
   "file_extension": ".py",
   "mimetype": "text/x-python",
   "name": "python",
   "nbconvert_exporter": "python",
   "pygments_lexer": "ipython3",
   "version": "3.12.1"
  }
 },
 "nbformat": 4,
 "nbformat_minor": 2
}
