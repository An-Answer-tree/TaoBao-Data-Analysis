{
 "cells": [
  {
   "cell_type": "code",
   "execution_count": 6,
   "metadata": {},
   "outputs": [],
   "source": [
    "import pandas as pd\n",
    "pd.set_option('display.expand_frame_repr', False)"
   ]
  },
  {
   "cell_type": "code",
   "execution_count": 7,
   "metadata": {},
   "outputs": [
    {
     "name": "stdout",
     "output_type": "stream",
     "text": [
      "最初数据：\n",
      "     user_id    item_id  behavior_type  item_category           time\n",
      "0  98047837  232431562              1           4245  2014-12-06 02\n",
      "1  97726136  383583590              1           5894  2014-12-09 20\n",
      "2  98607707   64749712              1           2883  2014-12-18 11\n",
      "3  98662432  320593836              1           6562  2014-12-06 10\n",
      "4  98145908  290208520              1          13926  2014-12-16 21 \n",
      "\n",
      "\n",
      "最初数据类型：\n",
      " user_id           int64\n",
      "item_id           int64\n",
      "behavior_type     int64\n",
      "item_category     int64\n",
      "time             object\n",
      "dtype: object \n",
      "\n",
      "\n"
     ]
    }
   ],
   "source": [
    "# 数据集导入\n",
    "df = pd.read_csv('../user_action.csv')\n",
    "print('最初数据：\\n', df.head(), '\\n\\n')\n",
    "print('最初数据类型：\\n', df.dtypes, '\\n\\n')"
   ]
  },
  {
   "cell_type": "code",
   "execution_count": 8,
   "metadata": {},
   "outputs": [
    {
     "name": "stdout",
     "output_type": "stream",
     "text": [
      "去除空值后数据为：\n",
      "             user_id    item_id  behavior_type  item_category           time\n",
      "0          98047837  232431562              1           4245  2014-12-06 02\n",
      "1          97726136  383583590              1           5894  2014-12-09 20\n",
      "2          98607707   64749712              1           2883  2014-12-18 11\n",
      "3          98662432  320593836              1           6562  2014-12-06 10\n",
      "4          98145908  290208520              1          13926  2014-12-16 21\n",
      "...             ...        ...            ...            ...            ...\n",
      "12256901   93812622  378365755              1             11  2014-12-13 21\n",
      "12256902   93812622  177724753              1          12311  2014-12-14 21\n",
      "12256903   93812622  234391443              1           8765  2014-12-11 16\n",
      "12256904   93812622   26452000              1           7951  2014-12-08 22\n",
      "12256905  108404535  362699797              1           9847  2014-12-03 19\n",
      "\n",
      "[12256906 rows x 5 columns] \n",
      "\n",
      "\n"
     ]
    }
   ],
   "source": [
    "# 数据预处理\n",
    "# 在df中去除有空值的数据项，并在原地修改\n",
    "df.dropna(axis=0, how='any', inplace=True)\n",
    "print('去除空值后数据为：\\n', df, '\\n\\n')"
   ]
  },
  {
   "cell_type": "code",
   "execution_count": 9,
   "metadata": {},
   "outputs": [
    {
     "name": "stdout",
     "output_type": "stream",
     "text": [
      "当前数据：\n",
      "     user_id    item_id  behavior_type  item_category           time mon day hour\n",
      "0  98047837  232431562              1           4245  2014-12-06 02  12  06   02\n",
      "1  97726136  383583590              1           5894  2014-12-09 20  12  09   20\n",
      "2  98607707   64749712              1           2883  2014-12-18 11  12  18   11\n",
      "3  98662432  320593836              1           6562  2014-12-06 10  12  06   10\n",
      "4  98145908  290208520              1          13926  2014-12-16 21  12  16   21 \n",
      "\n",
      "\n",
      "当前df数据类型：\n",
      " user_id           int64\n",
      "item_id           int64\n",
      "behavior_type     int64\n",
      "item_category     int64\n",
      "time             object\n",
      "mon              object\n",
      "day              object\n",
      "hour             object\n",
      "dtype: object \n",
      "\n",
      "\n"
     ]
    }
   ],
   "source": [
    "# 将df中time字段删除，增加mon，day，hour三个字段\n",
    "df['mon'] = df['time'].str.split(pat='-', expand=True)[1]\n",
    "df['day'] = df['time'].str.split(pat='-', expand=True)[2].str.split(pat=' ', expand=True)[0]\n",
    "df['hour'] = df['time'].str.split(pat=' ', expand=True)[1]\n",
    "# 修改mon，day，hour字段的数据类型\n",
    "print('当前数据：\\n', df.head(), '\\n\\n')\n",
    "print('当前df数据类型：\\n', df.dtypes, '\\n\\n')"
   ]
  },
  {
   "cell_type": "code",
   "execution_count": null,
   "metadata": {},
   "outputs": [],
   "source": []
  }
 ],
 "metadata": {
  "kernelspec": {
   "display_name": "dataanalysis",
   "language": "python",
   "name": "python3"
  },
  "language_info": {
   "codemirror_mode": {
    "name": "ipython",
    "version": 3
   },
   "file_extension": ".py",
   "mimetype": "text/x-python",
   "name": "python",
   "nbconvert_exporter": "python",
   "pygments_lexer": "ipython3",
   "version": "3.12.1"
  }
 },
 "nbformat": 4,
 "nbformat_minor": 2
}
